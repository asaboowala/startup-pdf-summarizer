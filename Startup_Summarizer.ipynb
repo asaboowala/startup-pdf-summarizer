{
  "nbformat": 4,
  "nbformat_minor": 0,
  "metadata": {
    "colab": {
      "provenance": []
    },
    "kernelspec": {
      "name": "python3",
      "display_name": "Python 3"
    },
    "language_info": {
      "name": "python"
    }
  },
  "cells": [
    {
      "cell_type": "code",
      "execution_count": null,
      "metadata": {
        "id": "bP_ePo5BolU3"
      },
      "outputs": [],
      "source": [
        "!pip install -q transformers einops accelerate langchain bitsandbytes\n",
        "!pip install -qqq openai\n",
        "!pip install -Uqqq chromadb\n",
        "!pip install -q unstructured[pptx]\n",
        "!pip install -Uqqq google-api-python-client google-auth-httplib2 google-auth-oauthlib"
      ]
    },
    {
      "cell_type": "code",
      "source": [
        "import os\n",
        "import textwrap\n",
        "\n",
        "import langchain\n",
        "from langchain.llms import OpenAI\n",
        "from langchain.chat_models import ChatOpenAI\n",
        "from langchain.prompts import PromptTemplate\n",
        "from langchain.document_loaders import UnstructuredPowerPointLoader\n",
        "from langchain.chains.llm import LLMChain\n",
        "from langchain.chains.combine_documents.stuff import StuffDocumentsChain\n"
      ],
      "metadata": {
        "id": "RYAINDiSoyOR"
      },
      "execution_count": null,
      "outputs": []
    },
    {
      "cell_type": "code",
      "source": [
        "os.environ[\"OPENAI_API_KEY\"] = \"OPEN_AI_API KEY\""
      ],
      "metadata": {
        "id": "K6Zy_Sk8o3g1"
      },
      "execution_count": null,
      "outputs": []
    },
    {
      "cell_type": "code",
      "source": [
        "# Formatted printing\n",
        "def print_response(response: str):\n",
        "    print(\"\\n\".join(textwrap.wrap(response, width=80)))"
      ],
      "metadata": {
        "id": "B3ggtdmopTgL"
      },
      "execution_count": null,
      "outputs": []
    },
    {
      "cell_type": "code",
      "source": [
        "# Define prompt\n",
        "prompt_template = \"\"\"Write a one page summary of the following startup material (include key information for investors such as mission statement, progress, company size, etc):\n",
        "\"{text}\"\n",
        "CONCISE SUMMARY:\"\"\"\n",
        "prompt = PromptTemplate.from_template(prompt_template)\n",
        "\n",
        "# Define LLM chain\n",
        "llm = ChatOpenAI(temperature=0)\n",
        "llm_chain = LLMChain(llm=llm, prompt=prompt)\n",
        "\n",
        "# Define StuffDocumentsChain\n",
        "stuff_chain = StuffDocumentsChain(\n",
        "    llm_chain=llm_chain, document_variable_name=\"text\"\n",
        ")\n",
        "\n",
        "loader = UnstructuredPowerPointLoader(\n",
        "    \"/content/sample_data/Example Presentation.pptx\", mode=\"elements\", strategy=\"fast\",\n",
        ")\n",
        "docs = loader.load()\n",
        "\n",
        "print_response(stuff_chain.run(docs))"
      ],
      "metadata": {
        "colab": {
          "base_uri": "https://localhost:8080/"
        },
        "id": "2sclKg8Z1f7u",
        "outputId": "b3f99400-8d6c-4246-f7b1-8a02cac29456"
      },
      "execution_count": null,
      "outputs": [
        {
          "output_type": "stream",
          "name": "stdout",
          "text": [
            "The iGEM Presentation is about a high school track iGEM team called\n",
            "GunnVistaPingry_US and their project on CRISPR technology. The team is led by\n",
            "Navya and consists of Sanjana, Dia, Aditi, Alisha, Aaron, Charuthi, Dorothy, and\n",
            "Stephanie. The team's project aims to improve the prediction of sgRNA efficiency\n",
            "using a machine learning and artificial intelligence model. They have developed\n",
            "a software tool that uses real-time qRT-PCR data to measure the expression level\n",
            "of target genes. The team compared their algorithm with a competitor's and found\n",
            "that theirs is more accurate. They have also conducted interviews with\n",
            "stakeholders and considered safety considerations for their software tool. The\n",
            "team's future steps include creating a web server for easy input, further\n",
            "experiments to train dependent parameters, and integrating deep learning. They\n",
            "also plan to collaborate worldwide and explore the potential of CRISPRa. The\n",
            "presentation was narrated by Navya and the script was written by Navya, Alisha,\n",
            "Aaron, Dr. Samuel Perli, Siva Palagummi, and Pam Pacheco. The presentation\n",
            "design was done by Lauren Turetsky and Stephanie Muggler.\n"
          ]
        }
      ]
    },
    {
      "cell_type": "code",
      "source": [
        "# from google.colab import files\n",
        "# files.download('file.pdf')"
      ],
      "metadata": {
        "id": "-pZCmiQryX8S"
      },
      "execution_count": null,
      "outputs": []
    }
  ]
}